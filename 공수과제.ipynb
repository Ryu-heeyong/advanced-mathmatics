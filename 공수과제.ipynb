{
  "nbformat": 4,
  "nbformat_minor": 0,
  "metadata": {
    "colab": {
      "name": "공수과제",
      "provenance": [],
      "collapsed_sections": [],
      "toc_visible": true,
      "include_colab_link": true
    },
    "kernelspec": {
      "name": "python2",
      "display_name": "Python 2"
    }
  },
  "cells": [
    {
      "cell_type": "markdown",
      "metadata": {
        "id": "view-in-github",
        "colab_type": "text"
      },
      "source": [
        "<a href=\"https://colab.research.google.com/github/Ryu-heeyong/advanced-mathmatics/blob/master/%EA%B3%B5%EC%88%98%EA%B3%BC%EC%A0%9C.ipynb\" target=\"_parent\"><img src=\"https://colab.research.google.com/assets/colab-badge.svg\" alt=\"Open In Colab\"/></a>"
      ]
    },
    {
      "cell_type": "markdown",
      "metadata": {
        "id": "SdkzN6S7q0ew",
        "colab_type": "text"
      },
      "source": [
        "# Laplace's Equation in the Sphere"
      ]
    },
    {
      "cell_type": "markdown",
      "metadata": {
        "id": "7q0Kx6hqesiZ",
        "colab_type": "text"
      },
      "source": [
        ">$\\displaystyle\n",
        "$\\begin{align*}\n",
        "(a) \\;\\;\\;\\; u_{rr} +\\frac{2}{r} u_r +\\frac{1}{r^2}u_{\\phi\\phi} +\\frac{\\cot\\phi}{r^2} u_{\\phi} &+\\frac{1}{r^2\\sin^2\\phi}u_{\\theta\\theta} = 0, \\;\\; r < R \\\\ \n",
        " u(R,\\phi,\\theta) &= g(\\phi,\\theta) \\\\ \n",
        "&\\downarrow \\\\\n",
        "separation \\;\\;of \\;\\; variables : \\;\\; &u(R,\\phi,\\theta) = R(r)\\Phi(\\phi)\\Theta(\\theta) \\\\\n",
        "&\\Downarrow \\\\ \n",
        "R''\\Theta+\\frac{2}{r}R'\\Theta+\\frac{1}{r^2sin^2\\phi}\\Theta''\\Phi{R} &+ \\frac{cos\\phi}{r^2sin^2\\phi}\\Phi'\\Theta{R} + \\frac{1}{r^2}\\Phi''\\Theta{R}=0 \\\\\n",
        "(\\frac{r^2sin^2\\phi{R}''}{R} + \\frac{2rsin^2\\phi{R'}}{R}) + (\\frac{\\Theta''}{\\Theta}) &+ (\\frac{cos\\phi sin\\phi\\Phi''}{\\Phi}\\Phi'\\Theta+\\frac{sin^2\\phi}{\\Phi}\\Phi''\\Theta)=0 \\\\\n",
        "&\\Downarrow \\\\ \n",
        "\\frac{\\Theta''}{\\Theta} &= -m^2 \\\\\n",
        "\\Theta(\\theta) &= A_me^{im\\theta} \\\\\n",
        "&\\Downarrow \\\\\n",
        "\\Theta(\\theta) = A_m sin & (m\\theta)+B_m cos (m\\theta) \\\\\n",
        "\\frac{r^2{R}''}{R} + \\frac{2r{R'}}{R} + \\frac{1}{sin^2\\phi}(\\frac{cos\\phi  sin\\phi \\Phi''} {\\Phi} \\Phi' \\Theta &+ \\frac{sin^2\\phi} {\\Phi} \\Phi''\\Theta-m^2) = 0 \\\\\n",
        "-\\frac{r^2{R}''}{R} + \\frac{2r{R'}}{R} = \\frac{1}{sin^2\\phi} (\\frac{cos\\phi sin\\phi\\Phi''}{\\Phi} \\Phi'\\Theta &+ \\frac{sin^2\\phi}{\\Phi}\\Phi''\\Theta-m^2) = -\\lambda, \\;\\;\\;\\lambda = n(n+1) \\\\\n",
        "&\\Downarrow \\\\\n",
        "R_n(r)=C_nr^n &+ D_nr^{-n-1} \\\\\n",
        "n(n+1)-\\frac{m^2}{sin^2\\phi} +& \\frac{cos\\phi}{sin\\phi}\\frac{1}{\\Phi}\\Phi'+\\frac{\\Phi''}{\\Phi}=0 \\\\\n",
        "&\\Downarrow \\\\\n",
        " (\\Phi''+\\frac{cos\\phi}{sin\\phi}\\Phi'+&[n(n+1)-\\frac{m^2}{sin^2\\phi}]\\phi=0 \\\\\n",
        "&\\Downarrow  x=cos\\phi, m=-n,...,-1,0,1,...,n \\\\\n",
        "P_n(x) = \\frac{1}{2^n} & \\frac{d^n}{dx^n}(x^2-1)^n \\:\\; : not \\:\\: general \\\\\n",
        "P_n^m(x) = \\frac{(-1)^m}{2^n n!}(1-x^2)^{\\frac{m} {2}} & \\frac{d^{n+m}}{dx^{n+m}} (x^2+1)^n \\;\\;\\;\\; (-n \\leq m \\leq +n) \\;\\;\\; : general \\\\\n",
        "&\\Downarrow \\\\\n",
        "R(r)\\Phi(\\phi) = \\sum_{n=0}^\\infty &[C_n r^n + \\frac{D_n}{r^{n+1}}]P_n^m(cos\\phi) \\\\\n",
        "u(r,\\theta,\\phi) = \\sum_{n=0}^{\\infty}\\sum_{m=-n}^{n}&(A_nr^n+\\frac{B_n}{r^{n+1}})P_n^m(cos\\phi)e^{im\\theta} \\\\\n",
        "u(R,\\phi,\\theta)=g(\\phi,\\theta) = \\sum_{n=0}^{\\infty} & \\sum_{m=-n}^{n} (A_nR^n+\\frac{B_n}{R^{n+1}})P_n^m(cos\\phi)e^{im\\theta} \\\\\n",
        "\\end{align*}$"
      ]
    },
    {
      "cell_type": "markdown",
      "metadata": {
        "id": "DQoHCbwIOkCE",
        "colab_type": "text"
      },
      "source": [
        ">(b) $\\displaystyle u(r,\\phi,\\theta) = \\int_0^{2\\pi} \\int_0^\\pi K(r,\\phi,\\theta; R,\\varphi,\\vartheta)\\, g(\\varphi,\\vartheta) \\sin\\varphi \\,d\\varphi \\, d\\vartheta$\n",
        "\n",
        ">$\\displaystyle \\nabla^2w = -\\nabla^2v, \\;\\;\\;0 < r < \\pi$\n",
        "\n",
        ">$\\displaystyle w(\\pi,\\theta) = 0, \\;\\;\\; 0 \\leq \\theta < 2\\pi$\n",
        "\n",
        "Therefore\n",
        "\n",
        ">$\\displaystyle w(r_0,\\theta_0)=-\\int_0^{2\\pi} \\int_0^\\pi K(r,\\phi,\\theta; R,\\varphi,\\vartheta)\\, \\nabla^2 v\\,sin \\varphi\\, d\\varphi d\\vartheta$\n",
        "\n",
        "Since $v=0$ near the singularity $(r_0,\\phi_0,\\theta_0)$ of $K$, we can apply the divergence theorem to the identity\n",
        "\n",
        ">$\\displaystyle \\nabla \\cdot \\left( K\\nabla v -v\\nabla K\\right) =K \\nabla^2 v -v\\nabla^2 K =K\\nabla^2 v$\n",
        "\n",
        "to find that\n",
        "\n",
        ">$\\displaystyle \\begin{align*} w(r_0,\\phi_0,\\theta_0)&=-\\int_0^{2\\pi} \\int_0^\\pi K(r,\\phi,\\theta; R,\\varphi,\\vartheta)\\, \\nabla^2 v\\,sin \\varphi\\,  d\\varphi d\\vartheta \\\\\n",
        " &\\Downarrow \\;\\;{\\scriptstyle \\text{Divergence Theorem}} \\\\\n",
        " &=-\\int_0^{2\\pi} K(r_0,\\phi_0,\\theta_0;R,\\phi,\\theta) \\frac{\\partial v}{\\partial r} -v\\frac{\\partial K}{\\partial r}(r_0,\\phi_0,\\theta_0;R,\\phi,\\theta)\\,d\\phi \\\\\n",
        " &\\Downarrow \\;\\;{\\scriptstyle \\text{ On the boundary } K = 0, \\; v = g} \\\\\n",
        " &= \\int_0^{2\\pi} \\frac{\\partial K}{\\partial r}(r_0,\\phi_0,\\theta_0;R,\\phi,\\theta) \\,g(\\phi)\\,d\\phi \n",
        "\\end{align*}$\n",
        "\n",
        "But $v(r_0,\\phi_0,\\theta_0)=0$, so that $w(r_0,\\phi_0,\\theta_0)=u(r_0,\\phi_0,\\theta_0)$. Since $(r_0,\\phi_0,\\theta_0)$ was any point in a circle, the solution is\n",
        "\n",
        ">$\\displaystyle u(r,\\theta) = \\int_0^{2\\pi} \\frac{\\partial K}{\\partial r}(r,\\phi,\\theta;R,\\phi,\\theta)\\,d\\phi$\n",
        "\n",
        "which, if we compute $\\partial K/\\partial r$, gives\n",
        "\n",
        ">$\\displaystyle u(r,\\theta) = \\frac{1}{2\\pi} \\int_0^{2\\pi} \\left[ \\frac{1/R^2 + r^2 - 2r/R cos (\\phi - \\vartheta)}{R^2 + r^2 -2rR\\cos(\\phi -\\vartheta) } \\right]\\,g(\\phi)\\,d\\phi\n",
        "\\;\\;\\;\\;$ \n",
        "\n",
        "which is the Poisson integral formula\n"
      ]
    },
    {
      "cell_type": "markdown",
      "metadata": {
        "id": "eN4otnYyNmfo",
        "colab_type": "text"
      },
      "source": [
        "## Poisson's Equation for the Sphere"
      ]
    },
    {
      "cell_type": "markdown",
      "metadata": {
        "id": "2oLcOvRtJVKH",
        "colab_type": "text"
      },
      "source": [
        ">$\\displaystyle\n",
        "$\\begin{align*}\n",
        "(a) \\;\\;\n",
        " u_{rr} +\\frac{2}{r} u_r &+\\frac{1}{r^2}u_{\\phi\\phi} +\\frac{\\cot\\phi}{r^2} u_{\\phi} +\\frac{1}{r^2\\sin^2\\phi}u_{\\theta\\theta} = -F(r,\\phi,\\theta), \\;\\; r < R \\\\ \n",
        " u(R,\\phi,\\theta) &= 0\\\\ \n",
        "\\end{align*}$"
      ]
    },
    {
      "cell_type": "markdown",
      "metadata": {
        "id": "14Ccjy6mNkuA",
        "colab_type": "text"
      },
      "source": [
        "> (b) $\\displaystyle u(r,\\phi,\\theta) = \\int_0^{2\\pi} \\int_0^\\pi \\int_0^R G(r,\\phi,\\theta; \\rho,\\varphi,\\vartheta)\\, F(\\rho, \\varphi,\\vartheta) \\,\\rho^2 \\sin\\varphi \\,d\\rho \\,d\\varphi \\, d\\vartheta$"
      ]
    }
  ]
}